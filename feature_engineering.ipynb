{
 "cells": [
  {
   "cell_type": "markdown",
   "id": "8d95f5f9",
   "metadata": {},
   "source": [
    "These functions are used in the 'feature_engineer' function\n",
    "\n",
    "To run these functions, we need variables 'data', 'factors', and 'cs_factors'"
   ]
  },
  {
   "cell_type": "code",
   "execution_count": null,
   "id": "04c3b4ff",
   "metadata": {},
   "outputs": [],
   "source": [
    "import pandas as pd\n",
    "import numpy as np\n",
    "from ta import add_all_ta_features"
   ]
  },
  {
   "cell_type": "code",
   "execution_count": null,
   "id": "e412bdbe",
   "metadata": {},
   "outputs": [],
   "source": [
    "def momentum_235(data, factors, cs_factors):\n",
    "    '''\n",
    "    Calculates 2,3,5-day momentum of open price\n",
    "    '''\n",
    "    data['Mom_2day'] = data.groupby('tic')['prcod'].pct_change(periods=2)\n",
    "    factors.append('Mom_2day')\n",
    "    cs_factors.append('Mom_2day')\n",
    "    data['Mom_3day'] = data.groupby('tic')['prcod'].pct_change(periods=3)\n",
    "    factors.append('Mom_3day')\n",
    "    cs_factors.append('Mom_3day')\n",
    "    data['Mom_5day'] = data.groupby('tic')['prcod'].pct_change(periods=5)\n",
    "    factors.append('Mom_5day')\n",
    "    cs_factors.append('Mom_5day')\n",
    "    return data, factors, cs_factors"
   ]
  },
  {
   "cell_type": "code",
   "execution_count": null,
   "id": "4c437519",
   "metadata": {},
   "outputs": [],
   "source": [
    "def MA_510(data, factors, cs_factors):\n",
    "    '''\n",
    "    Calculates 5,10-day simple moving averages of open prices\n",
    "    '''\n",
    "    data['MA_5day'] = data.groupby('tic')['prcod'].transform(lambda x: x.rolling(5, min_periods=1).mean())\n",
    "    data['MA_10day'] = data.groupby('tic')['prcod'].transform(lambda x: x.rolling(10, min_periods=1).mean())\n",
    "    factors.append('MA_5day')\n",
    "    cs_factors.append('MA_5day')\n",
    "    factors.append('MA_10day')\n",
    "    cs_factors.append('MA_10day')\n",
    "    return data, factors, cs_factors"
   ]
  },
  {
   "cell_type": "code",
   "execution_count": null,
   "id": "8b8a55eb",
   "metadata": {},
   "outputs": [],
   "source": [
    "def price_vs_MA(data, factors, cs_factors):\n",
    "    '''\n",
    "    Calculates the ratio of open/close prices and the 5,10-day moving averages\n",
    "    '''\n",
    "    data['close/MA10'] = data['prccd'] / data['MA_10day']\n",
    "    data['close/MA5'] = data['prccd'] / data['MA_5day']\n",
    "    factors.append('close/MA10')\n",
    "    cs_factors.append('close/MA10')\n",
    "    factors.append('close/MA5')\n",
    "    cs_factors.append('close/MA5')\n",
    "    data['open/MA10'] = data['prcod'] / data['MA_10day']\n",
    "    data['open/MA5'] = data['prcod'] / data['MA_5day']\n",
    "    factors.append('open/MA10')\n",
    "    cs_factors.append('open/MA10')\n",
    "    factors.append('open/MA5')\n",
    "    cs_factors.append('open/MA5')\n",
    "    return data, factors, cs_factors"
   ]
  },
  {
   "cell_type": "code",
   "execution_count": null,
   "id": "25de8f83",
   "metadata": {},
   "outputs": [],
   "source": [
    "def STD_10(data, factors, cs_factors):\n",
    "    '''\n",
    "    Calculates the 10-day moving standard deviation of open price\n",
    "    '''\n",
    "    data['STD_10day'] = data.groupby('tic')['prcod'].transform(lambda x: x.rolling(10, min_periods=1).std())\n",
    "    factors.append('STD_10day')\n",
    "    cs_factors.append('STD_10day')    \n",
    "    return data, factors, cs_factors"
   ]
  },
  {
   "cell_type": "code",
   "execution_count": null,
   "id": "99a45298",
   "metadata": {},
   "outputs": [],
   "source": [
    "def H_L(data, factors, cs_factors):\n",
    "    '''\n",
    "    Calculates the daily spread: high - low\n",
    "    '''\n",
    "    data['H-L'] = data['prchd'] - data['prcld']\n",
    "    factors.append('H-L')\n",
    "    cs_factors.append('H-L')\n",
    "    return data, factors, cs_factors"
   ]
  },
  {
   "cell_type": "code",
   "execution_count": null,
   "id": "492d0e3a",
   "metadata": {},
   "outputs": [],
   "source": [
    "def RSI_14(data, factors, cs_factors):\n",
    "    '''\n",
    "    Calculates the relative strength index (RSI) using 14-day period\n",
    "    '''\n",
    "    data['delta'] = data.groupby('tic')['prcod'].diff()\n",
    "    data['gain'] = data['delta'].clip(lower=0)\n",
    "    data['loss'] = -data['delta'].clip(upper=0)\n",
    "    data['avg_gain'] = data.groupby('tic')['gain'].rolling(window=14, min_periods=1).mean().reset_index(level=0, drop=True)\n",
    "    data['avg_loss'] = data.groupby('tic')['loss'].rolling(window=14, min_periods=1).mean().reset_index(level=0, drop=True)\n",
    "    data['RSI'] = 100 - (100 / (1 + data['avg_gain'] / data['avg_loss']))\n",
    "    data = data.drop(columns=['delta', 'gain', 'loss', 'avg_gain', 'avg_loss'])\n",
    "    data = data.fillna(0)\n",
    "    data['RSI'] = data.groupby('tic')['RSI'].transform(lambda x: x.replace(0, x[x != 0].mean()))\n",
    "    factors.append('RSI')\n",
    "    cs_factors.append('RSI')\n",
    "    return data, factors, cs_factors"
   ]
  },
  {
   "cell_type": "code",
   "execution_count": null,
   "id": "434da4a8",
   "metadata": {},
   "outputs": [],
   "source": [
    "def MACD_Line(data, factors, cs_factors):\n",
    "    '''\n",
    "    Calculates the Moving Average Convergence Divergence (MACD)\n",
    "    MACD = EMA12 - EMA26\n",
    "    MACD_Signal_Line = 9-day exponential moving average of MACD\n",
    "    '''\n",
    "    data['EMA12'] = data['prcod'].ewm(span=12, adjust=False, min_periods=1).mean().reset_index(drop=True)\n",
    "    data['EMA26'] = data['prcod'].ewm(span=26, adjust=False, min_periods=1).mean().reset_index(drop=True)\n",
    "    data['MACD'] = data['EMA12'] - data['EMA26']\n",
    "    data['MACD_Signal_Line'] = data['MACD'].ewm(span=9, adjust=False, min_periods=1).mean()\n",
    "    \n",
    "    data = data.drop(columns=['EMA12', 'EMA26'])\n",
    "    \n",
    "    data = data.fillna(0)\n",
    "    data['RSI'] = data.groupby('tic')['RSI'].transform(lambda x: x.replace(0, x[x != 0].mean()))\n",
    "    \n",
    "    factors.extend(['MACD', 'MACD_Signal_Line'])\n",
    "    cs_factors.extend(['MACD', 'MACD_Signal_Line'])\n",
    "    \n",
    "    return data, factors, cs_factors"
   ]
  },
  {
   "cell_type": "code",
   "execution_count": null,
   "id": "b86830b0",
   "metadata": {},
   "outputs": [],
   "source": [
    "def all_features_ta(data, factors, cs_factors):\n",
    "    '''\n",
    "    Calculates all features in library ta (Technical Analysis Library)\n",
    "    '''\n",
    "    data_out = data.groupby(\"tic\").apply(lambda x: add_all_ta_features(x, open=\"prcod\", high=\"prchd\", low=\"prcld\", close=\"prccd\", volume=\"cshtrd\", fillna=True))\n",
    "    factors.extend(list(set(data_out.columns) - set(data.columns)))\n",
    "    cs_factors.extend(list(set(data_out.columns) - set(data.columns)))\n",
    "    \n",
    "    return data_out, factors, cs_factors"
   ]
  },
  {
   "cell_type": "code",
   "execution_count": null,
   "id": "74823be9",
   "metadata": {},
   "outputs": [],
   "source": [
    "def feature_engineer(data, factors, cs_factors):\n",
    "    '''\n",
    "    Input: data, factors, cs_factors (factors that are standardized cross-sectionally)\n",
    "    1. Add new features that are defined above\n",
    "    Output: data, factors, cs_factors\n",
    "    '''\n",
    "    data, factors, cs_factors = momentum_235(data, factors, cs_factors)\n",
    "    data, factors, cs_factors = MA_510(data, factors, cs_factors)\n",
    "    data, factors, cs_factors = price_vs_MA(data, factors, cs_factors)\n",
    "    data, factors, cs_factors = STD_10(data, factors, cs_factors)\n",
    "    data, factors, cs_factors = H_L(data, factors, cs_factors)\n",
    "    data, factors, cs_factors = RSI_14(data, factors, cs_factors)\n",
    "    data, factors, cs_factors, = MACD_Line(data, factors, cs_factors)\n",
    "    \n",
    "    # Fill missing data with cross-sectional mean\n",
    "    for f in factors:\n",
    "        data[f] = data.groupby('datadate')[f].transform(lambda x:x.fillna(x.median()))\n",
    "    \n",
    "    return data, factors, cs_factors\n"
   ]
  }
 ],
 "metadata": {
  "kernelspec": {
   "display_name": "Python 3 (ipykernel)",
   "language": "python",
   "name": "python3"
  },
  "language_info": {
   "codemirror_mode": {
    "name": "ipython",
    "version": 3
   },
   "file_extension": ".py",
   "mimetype": "text/x-python",
   "name": "python",
   "nbconvert_exporter": "python",
   "pygments_lexer": "ipython3",
   "version": "3.9.19"
  }
 },
 "nbformat": 4,
 "nbformat_minor": 5
}
